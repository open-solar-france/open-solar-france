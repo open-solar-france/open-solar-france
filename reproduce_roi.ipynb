{
 "cells": [
  {
   "cell_type": "markdown",
   "metadata": {},
   "source": [
    "# Analyse de Retour sur Investissement (ROI) pour l'Irradiation Solaire\n",
    "\n",
    "Ce notebook Jupyter fournit un exemple d'analyse de retour sur investissement (ROI) pour des projets basés sur l'irradiation solaire. Il utilise les données d'irradiation des communes françaises pour simuler des scénarios et évaluer la rentabilité potentielle.\n",
    "\n",
    "**Auteur**: SolaireSimple\n",
    "**Date**: 25 juillet 2025\n",
    "**Version**: v2025.01"
   ]
  },
  {
   "cell_type": "code",
   "execution_count": null,
   "metadata": {},
   "outputs": [],
   "source": [
    "import pandas as pd\n",
    "import numpy as np\n",
    "import matplotlib.pyplot as plt\n",
    "import seaborn as sns\n",
    "\n",
    "# Configuration de l'affichage de Pandas\n",
    "pd.set_option('display.max_columns', None)\n",
    "pd.set_option('display.width', 1000)"
   ]
  },
  {
   "cell_type": "markdown",
   "metadata": {},
   "source": [
    "## 1. Chargement des données d'irradiation\n",
    "\n",
    "Nous chargeons le fichier CSV contenant les données d'irradiation solaire pour les communes françaises. Assurez-vous que le chemin d'accès au fichier est correct."
   ]
  },
  {
   "cell_type": "code",
   "execution_count": null,
   "metadata": {},
   "outputs": [],
   "source": [
    "data_path = '../data/irradiation_communes_2025_07.csv'\n",
    "try:\n",
    "    df_irradiation = pd.read_csv(data_path)\n",
    "    print(f\"Données chargées avec succès : {len(df_irradiation)} communes\")\n",
    "    print(df_irradiation.head())\n",
    "except FileNotFoundError:\n",
    "    print(f\"Erreur : Le fichier {data_path} est introuvable. Assurez-vous qu'il se trouve dans le dossier 'data'.\")\n",
    "    df_irradiation = pd.DataFrame() # Créer un DataFrame vide pour éviter les erreurs subséquentes\n",
    "except Exception as e:\n",
    "    print(f\"Une erreur est survenue lors du chargement du fichier : {e}\")\n",
    "    df_irradiation = pd.DataFrame()"
   ]
  },
  {
   "cell_type": "markdown",
   "metadata": {},
   "source": [
    "## 2. Définition des paramètres de simulation\n",
    "\n",
    "Nous définissons ici les paramètres clés pour notre simulation de ROI. Ces valeurs sont des exemples et devraient être ajustées en fonction de votre cas d'usage spécifique (coût d'installation, prix de l'électricité, etc.)."
   ]
  },
  {
   "cell_type": "code",
   "execution_count": null,
   "metadata": {},
   "outputs": [],
   "source": [
    "# Paramètres financiers (exemples)\n",
    "cout_installation_par_m2 = 200  # €/m² (coût d'installation des panneaux solaires)\n",
    "surface_panneaux_m2 = 100      # m² (surface de panneaux installée)\n",
    "efficacite_panneaux = 0.18     # Efficacité moyenne des panneaux solaires (18%)\n",
    "prix_electricite_kwh = 0.25    # €/kWh (prix de vente ou économie d'électricité)\n",
    "degradation_annuelle = 0.005   # Dégradation annuelle de l'efficacité (0.5%)\n",
    "duree_projet_ans = 20          # Durée de vie du projet en années\n",
    "taux_actualisation = 0.05      # Taux d'actualisation pour le calcul de la VAN (Valeur Actuelle Nette)"
   ]
  },
  {
   "cell_type": "markdown",
   "metadata": {},
   "source": [
    "## 3. Calcul du ROI\n",
    "\n",
    "Nous allons calculer le coût initial, la production annuelle d'électricité et les flux de trésorerie pour chaque année du projet, en tenant compte de la dégradation annuelle de l'efficacité des panneaux."
   ]
  },
  {
   "cell_type": "code",
   "execution_count": null,
   "metadata": {},
   "outputs": [],
   "source": [
    "if not df_irradiation.empty:\n",
    "    # Coût initial total\n",
    "    cout_initial_total = cout_installation_par_m2 * surface_panneaux_m2\n",
    "    print(f\"Coût initial total de l'installation : {cout_initial_total:.2f} €\")\n",
    "\n",
    "    # Assurez-vous que la colonne d'irradiation existe et est numérique\n",
    "    irradiation_col = 'Irradiation annuelle (kWh/m²)' # Exemple de nom de colonne\n",
    "    if irradiation_col not in df_irradiation.columns:\n",
    "        print(f\"La colonne '{irradiation_col}' est introuvable. Veuillez vérifier le nom de la colonne d'irradiation dans votre CSV.\")\n",
    "        # Créer une colonne fictive pour la démonstration si elle n'existe pas\n",
    "        df_irradiation[irradiation_col] = np.random.uniform(800, 1500, len(df_irradiation))\n",
    "        print(f\"Une colonne '{irradiation_col}' fictive a été créée pour la démonstration.\")\n",
    "    \n",
    "    # Calcul de la production annuelle d'électricité (en kWh) pour chaque commune\n",
    "    df_irradiation['production_annuelle_kwh'] = (\n",
    "        df_irradiation[irradiation_col] * surface_panneaux_m2 * efficacite_panneaux\n",
    "    )\n",
    "\n",
    "    # Calcul des flux de trésorerie annuels et de la VAN\n",
    "    df_irradiation['flux_tresorerie_an_1'] = df_irradiation['production_annuelle_kwh'] * prix_electricite_kwh\n",
    "\n",
    "    # Calcul de la Valeur Actuelle Nette (VAN) et du Temps de Retour sur Investissement (TRI)\n",
    "    def calculate_npv_irr(cash_flows, initial_cost, discount_rate, duration):\n",
    "        npv = -initial_cost\n",
    "        for year in range(1, duration + 1):\n",
    "            adjusted_cash_flow = cash_flows * ((1 - degradation_annuelle) ** (year - 1))\n",
    "            npv += adjusted_cash_flow / ((1 + discount_rate) ** year)\n",
    "        return npv\n",
    "\n",
    "    df_irradiation['VAN'] = df_irradiation.apply(\n",
    "        lambda row: calculate_npv_irr(\n",
    "            row['flux_tresorerie_an_1'], cout_initial_total, taux_actualisation, duree_projet_ans\n",
    "        ), axis=1\n",
    "    )\n",
    "\n",
    "    # Calcul du temps de retour sur investissement (Payback Period)\n",
    "    def calculate_payback_period(initial_cost, annual_cash_flow_year1, degradation, duration):\n",
    "        cumulative_cash_flow = -initial_cost\n",
    "        payback_period = np.nan\n",
    "        for year in range(1, duration + 1):\n",
    "            current_year_cash_flow = annual_cash_flow_year1 * ((1 - degradation) ** (year - 1))\n",
    "            cumulative_cash_flow += current_year_cash_flow\n",
    "            if cumulative_cash_flow >= 0 and np.isnan(payback_period):\n",
    "                payback_period = year\n",
    "                # Interpolation linéaire pour une estimation plus précise\n",
    "                if cumulative_cash_flow - current_year_cash_flow < 0: # Si le seuil a été franchi cette année\n",
    "                    payback_period = year - 1 + (abs(cumulative_cash_flow - current_year_cash_flow) / current_year_cash_flow)\n",
    "        return payback_period\n",
    "\n",
    "    df_irradiation['Temps_Retour_Investissement_ans'] = df_irradiation.apply(\n",
    "        lambda row: calculate_payback_period(\n",
    "            cout_initial_total, row['flux_tresorerie_an_1'], degradation_annuelle, duree_projet_ans\n",
    "        ), axis=1\n",
    "    )\n",
    "\n",
    "    print("\nRésultats de l'analyse ROI pour les premières communes :")\n",
    "    print(df_irradiation[['commune', irradiation_col, 'production_annuelle_kwh', 'flux_tresorerie_an_1', 'VAN', 'Temps_Retour_Investissement_ans']].head())\n",
    "else:\n",
    "    print("Impossible de procéder à l'analyse ROI car les données d'irradiation n'ont pas été chargées.")"
   ]
  },
  {
   "cell_type": "markdown",
   "metadata": {},
   "source": [
    "## 4. Visualisation des résultats\n",
    "\n",
    "Nous pouvons visualiser la distribution de la VAN et du temps de retour sur investissement pour mieux comprendre la rentabilité potentielle des projets solaires dans différentes communes."
   ]
  },
  {
   "cell_type": "code",
   "execution_count": null,
   "metadata": {},
   "outputs": [],
   "source": [
    "if not df_irradiation.empty and 'VAN' in df_irradiation.columns:\n",
    "    plt.figure(figsize=(14, 6))\n",
    "\n",
    "    plt.subplot(1, 2, 1)\n",
    "    sns.histplot(df_irradiation['VAN'], bins=30, kde=True)\n",
    "    plt.title('Distribution de la Valeur Actuelle Nette (VAN)')\n",
    "    plt.xlabel('VAN (€)')\n",
    "    plt.ylabel('Nombre de communes')\n",
    "\n",
    "    plt.subplot(1, 2, 2)\n",
    "    sns.histplot(df_irradiation['Temps_Retour_Investissement_ans'].dropna(), bins=30, kde=True)\n",
    "    plt.title('Distribution du Temps de Retour sur Investissement')\n",
    "    plt.xlabel('Temps de Retour sur Investissement (années)')\n",
    "    plt.ylabel('Nombre de communes')\n",
    "\n",
    "    plt.tight_layout()\n",
    "    plt.show()\n",
    "\n",
    "    # Top 10 des communes par VAN\n",
    "    print("\nTop 10 des communes par VAN (Valeur Actuelle Nette) :")\n",
    "    print(df_irradiation.nlargest(10, 'VAN')[['commune', 'VAN', 'Temps_Retour_Investissement_ans']])\n",
    "\n",
    "    # Top 10 des communes par Temps de Retour sur Investissement (le plus court)\n",
    "    print("\nTop 10 des communes par Temps de Retour sur Investissement (le plus court) :")\n",
    "    print(df_irradiation.nsmallest(10, 'Temps_Retour_Investissement_ans')[['commune', 'VAN', 'Temps_Retour_Investissement_ans']])\n",
    "else:\n",
    "    print("Impossible de générer les visualisations car les données ou les colonnes nécessaires sont manquantes.")"
   ]
  },
  {
   "cell_type": "markdown",
   "metadata": {},
   "source": [
    "## 5. Conclusion\n",
    "\n",
    "Ce notebook démontre comment les données d'irradiation solaire peuvent être utilisées pour effectuer une analyse de ROI. Les résultats peuvent varier considérablement en fonction des paramètres financiers et de l'irradiation spécifique à chaque localisation. Il est crucial d'adapter les paramètres de simulation à votre contexte réel pour obtenir des estimations précises.\n",
    "\n",
    "Pour des analyses plus approfondies, vous pouvez :\n",
    "\n",
    "*   Intégrer des coûts d'opération et de maintenance (O&M).\n",
    "*   Considérer différentes sources de financement et leurs impacts sur le ROI.\n",
    "*   Affiner les modèles de production d'énergie solaire.\n",
    "*   Réaliser des analyses de sensibilité sur les paramètres clés.\n",
    "*   Utiliser des données d'irradiation plus granulaires (horaires, mensuelles)."
   ]
  }
 ],
 "metadata": {
  "kernelspec": {
   "display_name": "Python 3",
   "language": "python",
   "name": "python3"
  },
  "language_info": {
   "codemirror_mode": {
    "name": "ipython",
    "version": 3
   },
   "file_extension": ".py",
   "mimetype": "text/x-python",
   "name": "python",
   "nbconvert_exporter": "python",
   "pygments_lexer": "ipython3",
   "version": "3.11.0rc1"
  }
 },
 "nbformat": 4,
 "nbformat_minor": 4
}

